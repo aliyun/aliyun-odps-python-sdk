{
 "cells": [
  {
   "cell_type": "markdown",
   "metadata": {},
   "source": [
    "# A Quick Example of Using PyOdps\n",
    "\n",
    "## prepare odps object, and probe table's schema"
   ]
  },
  {
   "cell_type": "code",
   "execution_count": 1,
   "metadata": {
    "collapsed": false
   },
   "outputs": [
    {
     "data": {
      "text/plain": [
       "odps.Schema {  \n",
       "  remote_ip             string\n",
       "  remote_user           string\n",
       "  time                  string\n",
       "  request               string\n",
       "  http_code             bigint\n",
       "  body_size             bigint\n",
       "  referer               string\n",
       "  user_agent            string\n",
       "}"
      ]
     },
     "execution_count": 1,
     "metadata": {},
     "output_type": "execute_result"
    }
   ],
   "source": [
    "from odps import ODPS\n",
    "o = ODPS(\"your_access_id\", \"your_access_key\", \"your_project\", \"https://service.odps.aliyun.com/api\")\n",
    "t = o.get_table(\"sample_access_log\")\n",
    "t.schema"
   ]
  },
  {
   "cell_type": "markdown",
   "metadata": {},
   "source": [
    "## peek first few lines of table"
   ]
  },
  {
   "cell_type": "code",
   "execution_count": 2,
   "metadata": {
    "collapsed": false
   },
   "outputs": [
    {
     "name": "stdout",
     "output_type": "stream",
     "text": [
      "[u'42.233.239.113', u'-', u'[08/Nov/2015:07:50:59 +0800]', u'\"GET http://www.tianjinwe.com/ HTTP/1.1\"', 200, 179, u'\"http://www.tianjinwe.com/\"', u'\"Mozilla/5.0 (compatible; MSIE 9.0; Windows NT 6.1; Trident/5.0)\"']\n",
      "[u'162.252.240.124', u'-', u'[08/Nov/2015:08:15:26 +0800]', u'\"GET http://162.252.240.124:80/gw.php HTTP/1.1\"', 404, 209, u'\"-\"', u'\"Mozilla/5.0 (Windows NT 6.1; WOW64) AppleWebKit/537.36 (KHTML, like Gecko) Chrome/44.0.2403.107 Safari/537.36\"']\n",
      "[u'183.60.48.25', u'-', u'[08/Nov/2015:08:29:52 +0800]', u'\"GET http://www.baidu.com/ HTTP/1.1\"', 200, 179, u'\"-\"', u'\"-\"']\n",
      "[u'62.210.88.201', u'-', u'[08/Nov/2015:09:51:14 +0800]', u'\"GET http://51.254.206.142/httptest.php HTTP/1.1\"', 404, 151, u'\"-\"', u'\"-\"']\n",
      "[u'62.210.88.201', u'-', u'[08/Nov/2015:09:51:41 +0800]', u'\"GET http://www.google.pl/search?q=wp.pl&num=100&start=100 HTTP/1.1\"', 404, 151, u'\"-\"', u'\"-\"']\n"
     ]
    }
   ],
   "source": [
    "for r in t.head(5):\n",
    "    print r.values"
   ]
  },
  {
   "cell_type": "markdown",
   "metadata": {},
   "source": [
    "## run a sql, and obtain its result"
   ]
  },
  {
   "cell_type": "code",
   "execution_count": 3,
   "metadata": {
    "collapsed": false
   },
   "outputs": [
    {
     "name": "stdout",
     "output_type": "stream",
     "text": [
      "[200, 252]\n",
      "[301, 2]\n",
      "[304, 73]\n",
      "[400, 13]\n",
      "[403, 1]\n",
      "[404, 1347]\n",
      "[405, 28]\n",
      "[408, 1]\n",
      "[416, 4]\n"
     ]
    }
   ],
   "source": [
    "from odps.models import TableSchema\n",
    "s = TableSchema.from_lists(['http_code','count'], ['bigint','bigint'])\n",
    "labels = []\n",
    "values = []\n",
    "with o.execute_sql(\"select http_code, count(*) count from sample_access_log group by http_code\").open_reader(s) as reader:\n",
    "    for r in reader:\n",
    "        print r.values\n",
    "        labels.append(r[0])\n",
    "        values.append(r[1])"
   ]
  },
  {
   "cell_type": "markdown",
   "metadata": {},
   "source": [
    "## plot a pie chart using the sql result above"
   ]
  },
  {
   "cell_type": "code",
   "execution_count": 4,
   "metadata": {
    "collapsed": false
   },
   "outputs": [
    {
     "data": {
      "image/png": "[encoded data removed]",
      "text/plain": [
       "<matplotlib.figure.Figure at 0x7f815d24dad0>"
      ]
     },
     "metadata": {},
     "output_type": "display_data"
    }
   ],
   "source": [
    "import matplotlib.pyplot as plt\n",
    "%matplotlib inline\n",
    "\n",
    "plt.pie(values, labels=labels, autopct='%1.1f%%', shadow=True, startangle=140)\n",
    "\n",
    "plt.axis('equal')\n",
    "plt.show()"
   ]
  },
  {
   "cell_type": "markdown",
   "metadata": {},
   "source": [
    "## export the sql result into a local excel file"
   ]
  },
  {
   "cell_type": "code",
   "execution_count": 5,
   "metadata": {
    "collapsed": false
   },
   "outputs": [],
   "source": [
    "import xlwt\n",
    "\n",
    "book = xlwt.Workbook(encoding=\"utf-8\")\n",
    "sheet = book.add_sheet(\"from odps\")\n",
    "\n",
    "with t.open_reader() as reader:\n",
    "    y = 0\n",
    "    for r in reader.read():\n",
    "        x = 0\n",
    "        for v in r.values:\n",
    "            sheet.write(y, x, v)\n",
    "            x = x + 1\n",
    "        y = y + 1\n",
    "        \n",
    "book.save(\"from_odps.xls\")"
   ]
  }
 ],
 "metadata": {
  "kernelspec": {
   "display_name": "Python 2",
   "language": "python2",
   "name": "python2"
  },
  "language_info": {
   "codemirror_mode": {
    "name": "ipython",
    "version": 2
   },
   "file_extension": ".py",
   "mimetype": "text/x-python",
   "name": "python",
   "nbconvert_exporter": "python",
   "pygments_lexer": "ipython2",
   "version": "2.7.10"
  }
 },
 "nbformat": 4,
 "nbformat_minor": 0
}
